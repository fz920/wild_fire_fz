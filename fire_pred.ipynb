{
 "cells": [
  {
   "cell_type": "code",
   "execution_count": 2,
   "metadata": {},
   "outputs": [],
   "source": [
    "import numpy as np\n",
    "import matplotlib.pyplot as plt\n",
    "import tensorflow as tf\n",
    "import tensorflow.keras.layers as tfl\n",
    "from sklearn.model_selection import train_test_split"
   ]
  },
  {
   "cell_type": "code",
   "execution_count": 27,
   "metadata": {},
   "outputs": [
    {
     "data": {
      "text/plain": [
       "(304, 512, 512, 15)"
      ]
     },
     "execution_count": 27,
     "metadata": {},
     "output_type": "execute_result"
    }
   ],
   "source": [
    "# Import data\n",
    "data = np.load(\"/Users/zhangfengzhe/Desktop/UROP/Wild Fire UROP/all_304_fire_combine_all_feature_512_wind_precipitation_new.npy\")\n",
    "data.shape"
   ]
  },
  {
   "cell_type": "code",
   "execution_count": 29,
   "metadata": {},
   "outputs": [],
   "source": [
    "m, n_H, n_W, n_C = data.shape"
   ]
  },
  {
   "cell_type": "code",
   "execution_count": 61,
   "metadata": {},
   "outputs": [],
   "source": [
    "train_x = data[:, :, :, 0:14]\n",
    "train_y = data[:, :, :, 14]"
   ]
  },
  {
   "cell_type": "code",
   "execution_count": 62,
   "metadata": {},
   "outputs": [
    {
     "name": "stdout",
     "output_type": "stream",
     "text": [
      "number of training examples = 273\n",
      "number of test examples = 31\n",
      "train_x shape: (273, 512, 512, 14)\n",
      "train_y shape: (273, 512, 512)\n",
      "val_x shape: (31, 512, 512, 14)\n",
      "val_y shape: (31, 512, 512)\n"
     ]
    }
   ],
   "source": [
    "train_x, val_x, train_y, val_y = train_test_split(train_x, train_y, test_size = 0.1)\n",
    "\n",
    "print (\"number of training examples = \" + str(train_x.shape[0]))\n",
    "print (\"number of test examples = \" + str(val_x.shape[0]))\n",
    "print (\"train_x shape: \" + str(train_x.shape))\n",
    "print (\"train_y shape: \" + str(train_y.shape))\n",
    "print (\"val_x shape: \" + str(val_x.shape))\n",
    "print (\"val_y shape: \" + str(val_y.shape))"
   ]
  },
  {
   "cell_type": "code",
   "execution_count": 35,
   "metadata": {},
   "outputs": [],
   "source": [
    "# Define the model\n",
    "def conv_model(input_shape):\n",
    "    input_img = tf.keras.Input(shape=input_shape)\n",
    "    \n",
    "    Z1 = tfl.Conv2D(8, (4, 4), padding='same')(input_img)\n",
    "    B1 = tfl.BatchNormalization()(Z1)\n",
    "    A1 = tfl.ReLU()(B1)\n",
    "    Z2 = tfl.Conv2D(16, (2, 2), padding='same')(A1)\n",
    "    B2 = tfl.BatchNormalization()(Z2)\n",
    "    A2 = tfl.ReLU()(B2)\n",
    "    outputs = tfl.Conv2D(1, (4, 4), padding='same')(A2)\n",
    "\n",
    "    model = tf.keras.Model(inputs=input_img, outputs=outputs)\n",
    "    model.compile(optimizer='adam', loss='categorical_crossentropy', metrics=['accuracy'])\n",
    "\n",
    "    return model"
   ]
  },
  {
   "cell_type": "code",
   "execution_count": 36,
   "metadata": {},
   "outputs": [],
   "source": [
    "model1 = conv_model((512, 512, 14))"
   ]
  },
  {
   "cell_type": "code",
   "execution_count": 37,
   "metadata": {},
   "outputs": [
    {
     "name": "stdout",
     "output_type": "stream",
     "text": [
      "Model: \"model_3\"\n",
      "_________________________________________________________________\n",
      " Layer (type)                Output Shape              Param #   \n",
      "=================================================================\n",
      " input_4 (InputLayer)        [(None, 512, 512, 14)]    0         \n",
      "                                                                 \n",
      " conv2d_9 (Conv2D)           (None, 512, 512, 8)       1800      \n",
      "                                                                 \n",
      " batch_normalization_6 (Batc  (None, 512, 512, 8)      32        \n",
      " hNormalization)                                                 \n",
      "                                                                 \n",
      " re_lu_6 (ReLU)              (None, 512, 512, 8)       0         \n",
      "                                                                 \n",
      " conv2d_10 (Conv2D)          (None, 512, 512, 16)      528       \n",
      "                                                                 \n",
      " batch_normalization_7 (Batc  (None, 512, 512, 16)     64        \n",
      " hNormalization)                                                 \n",
      "                                                                 \n",
      " re_lu_7 (ReLU)              (None, 512, 512, 16)      0         \n",
      "                                                                 \n",
      " conv2d_11 (Conv2D)          (None, 512, 512, 1)       257       \n",
      "                                                                 \n",
      "=================================================================\n",
      "Total params: 2,681\n",
      "Trainable params: 2,633\n",
      "Non-trainable params: 48\n",
      "_________________________________________________________________\n"
     ]
    }
   ],
   "source": [
    "model1.summary()"
   ]
  },
  {
   "cell_type": "code",
   "execution_count": 38,
   "metadata": {},
   "outputs": [
    {
     "data": {
      "text/plain": [
       "(273, 512, 512, 14)"
      ]
     },
     "execution_count": 38,
     "metadata": {},
     "output_type": "execute_result"
    }
   ],
   "source": [
    "train_x.shape"
   ]
  },
  {
   "cell_type": "code",
   "execution_count": 41,
   "metadata": {},
   "outputs": [
    {
     "name": "stdout",
     "output_type": "stream",
     "text": [
      "Epoch 1/5\n",
      "273/273 [==============================] - 132s 481ms/step - loss: 33.2941 - accuracy: 0.9433\n",
      "Epoch 2/5\n",
      "273/273 [==============================] - 123s 449ms/step - loss: 32.8346 - accuracy: 0.9162\n",
      "Epoch 3/5\n",
      "273/273 [==============================] - 129s 472ms/step - loss: 32.6426 - accuracy: 0.9436\n",
      "Epoch 4/5\n",
      "273/273 [==============================] - 365s 1s/step - loss: 32.5767 - accuracy: 0.9430\n",
      "Epoch 5/5\n",
      "273/273 [==============================] - 110s 404ms/step - loss: 32.5187 - accuracy: 0.9397\n"
     ]
    }
   ],
   "source": [
    "history = model1.fit(train_x, train_y, batch_size=1, epochs=5)"
   ]
  },
  {
   "cell_type": "code",
   "execution_count": 83,
   "metadata": {},
   "outputs": [
    {
     "name": "stdout",
     "output_type": "stream",
     "text": [
      "(1, 512, 512, 14)\n"
     ]
    },
    {
     "data": {
      "image/png": "[encoded data removed]",
      "text/plain": [
       "<Figure size 432x288 with 1 Axes>"
      ]
     },
     "metadata": {
      "needs_background": "light"
     },
     "output_type": "display_data"
    }
   ],
   "source": [
    "index = 272\n",
    "\n",
    "sample1 = np.array([data[index, :, :, 0:14]])\n",
    "print(sample1.shape)\n",
    "\n",
    "result = np.array(model1(sample1))[0]\n",
    "result.shape\n",
    "\n",
    "\n",
    "plt.imshow(result) # Display the predicted image\n",
    "plt.show()"
   ]
  },
  {
   "cell_type": "code",
   "execution_count": 84,
   "metadata": {},
   "outputs": [
    {
     "data": {
      "image/png": "[encoded data removed]",
      "text/plain": [
       "<Figure size 432x288 with 1 Axes>"
      ]
     },
     "metadata": {
      "needs_background": "light"
     },
     "output_type": "display_data"
    }
   ],
   "source": [
    "plt.imshow(data[index, :, :, 14]) # Display the label image\n",
    "plt.show()"
   ]
  },
  {
   "cell_type": "code",
   "execution_count": 63,
   "metadata": {},
   "outputs": [
    {
     "name": "stdout",
     "output_type": "stream",
     "text": [
      "1/1 [==============================] - 1s 1s/step - loss: 35.2744 - accuracy: 0.9461\n"
     ]
    },
    {
     "data": {
      "text/plain": [
       "[35.274356842041016, 0.9460809826850891]"
      ]
     },
     "execution_count": 63,
     "metadata": {},
     "output_type": "execute_result"
    }
   ],
   "source": [
    "# Evaluate the model based on the test samples\n",
    "model1.evaluate(val_x, val_y)"
   ]
  },
  {
   "cell_type": "code",
   "execution_count": 85,
   "metadata": {},
   "outputs": [
    {
     "name": "stderr",
     "output_type": "stream",
     "text": [
      "WARNING:absl:Found untraced functions such as _jit_compiled_convolution_op, _jit_compiled_convolution_op, _jit_compiled_convolution_op while saving (showing 3 of 3). These functions will not be directly callable after loading.\n"
     ]
    },
    {
     "name": "stdout",
     "output_type": "stream",
     "text": [
      "INFO:tensorflow:Assets written to: saved_model/wild_fire_model/assets\n"
     ]
    },
    {
     "name": "stderr",
     "output_type": "stream",
     "text": [
      "INFO:tensorflow:Assets written to: saved_model/wild_fire_model/assets\n"
     ]
    }
   ],
   "source": [
    "!mkdir -p saved_model\n",
    "model1.save('saved_model/wild_fire_model')"
   ]
  },
  {
   "cell_type": "code",
   "execution_count": null,
   "metadata": {},
   "outputs": [],
   "source": []
  }
 ],
 "metadata": {
  "interpreter": {
   "hash": "3dc2d4287c3e5df1efb1cfb6ad5e9bbe64ecfebd8ae7d2ff276c7de2f0e96c37"
  },
  "kernelspec": {
   "display_name": "Python 3.9.9 ('PoP_venv': venv)",
   "language": "python",
   "name": "python3"
  },
  "language_info": {
   "codemirror_mode": {
    "name": "ipython",
    "version": 3
   },
   "file_extension": ".py",
   "mimetype": "text/x-python",
   "name": "python",
   "nbconvert_exporter": "python",
   "pygments_lexer": "ipython3",
   "version": "3.9.9"
  },
  "orig_nbformat": 4
 },
 "nbformat": 4,
 "nbformat_minor": 2
}
