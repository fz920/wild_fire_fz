{
 "cells": [
  {
   "cell_type": "code",
   "execution_count": 34,
   "metadata": {},
   "outputs": [],
   "source": [
    "# importing the libraries\n",
    "import numpy as np\n",
    "\n",
    "# for reading and displaying images\n",
    "import matplotlib.pyplot as plt\n",
    "from sklearn.model_selection import train_test_split\n",
    "\n",
    "import torch.nn as nn\n",
    "import torch"
   ]
  },
  {
   "cell_type": "code",
   "execution_count": null,
   "metadata": {},
   "outputs": [],
   "source": [
    "class ConvLSTMCell(nn.Module):\n",
    "\n",
    "    def __init__(self, input_dim, hidden_dim, kernel_size, bias):\n",
    "        \"\"\"\n",
    "        Initialize ConvLSTM cell.\n",
    "        Parameters\n",
    "        ----------\n",
    "        input_dim: int\n",
    "            Number of channels of input tensor.\n",
    "        hidden_dim: int\n",
    "            Number of channels of hidden state.\n",
    "        kernel_size: (int, int)\n",
    "            Size of the convolutional kernel.\n",
    "        bias: bool\n",
    "            Whether or not to add the bias.\n",
    "        \"\"\"\n",
    "\n",
    "        super(ConvLSTMCell, self).__init__()\n",
    "\n",
    "        self.input_dim = input_dim\n",
    "        self.hidden_dim = hidden_dim\n",
    "\n",
    "        self.kernel_size = kernel_size\n",
    "        self.padding = kernel_size[0] // 2, kernel_size[1] // 2\n",
    "        self.bias = bias\n",
    "\n",
    "        self.conv = nn.Conv2d(in_channels=self.input_dim + self.hidden_dim,\n",
    "                              out_channels=4 * self.hidden_dim,\n",
    "                              kernel_size=self.kernel_size,\n",
    "                              padding=self.padding,\n",
    "                              bias=self.bias)\n",
    "\n",
    "    def forward(self, input_tensor, cur_state):\n",
    "        h_cur, c_cur = cur_state\n",
    "\n",
    "        combined = torch.cat([input_tensor, h_cur], dim=1)  # concatenate along channel axis\n",
    "\n",
    "        combined_conv = self.conv(combined)\n",
    "        cc_i, cc_f, cc_o, cc_g = torch.split(combined_conv, self.hidden_dim, dim=1)\n",
    "        i = torch.sigmoid(cc_i)\n",
    "        f = torch.sigmoid(cc_f)\n",
    "        o = torch.sigmoid(cc_o)\n",
    "        g = torch.tanh(cc_g)\n",
    "\n",
    "        c_next = f * c_cur + i * g\n",
    "        h_next = o * torch.tanh(c_next)\n",
    "\n",
    "        return h_next, c_next\n",
    "\n",
    "    def init_hidden(self, batch_size, image_size):\n",
    "        height, width = image_size\n",
    "        return (torch.zeros(batch_size, self.hidden_dim, height, width, device=self.conv.weight.device),\n",
    "                torch.zeros(batch_size, self.hidden_dim, height, width, device=self.conv.weight.device))"
   ]
  },
  {
   "cell_type": "code",
   "execution_count": 2,
   "metadata": {},
   "outputs": [],
   "source": [
    "class ConvLSTM(nn.Module):\n",
    "\n",
    "    \"\"\"\n",
    "    Parameters:\n",
    "        input_dim: Number of channels in input\n",
    "        hidden_dim: Number of hidden channels\n",
    "        kernel_size: Size of kernel in convolutions\n",
    "        num_layers: Number of LSTM layers stacked on each other\n",
    "        batch_first: Whether or not dimension 0 is the batch or not\n",
    "        bias: Bias or no bias in Convolution\n",
    "        return_all_layers: Return the list of computations for all layers\n",
    "        Note: Will do same padding.\n",
    "    Input:\n",
    "        A tensor of size B, T, C, H, W or T, B, C, H, W\n",
    "    Output:\n",
    "        A tuple of two lists of length num_layers (or length 1 if return_all_layers is False).\n",
    "            0 - layer_output_list is the list of lists of length T of each output\n",
    "            1 - last_state_list is the list of last states\n",
    "                    each element of the list is a tuple (h, c) for hidden state and memory\n",
    "    Example:\n",
    "        >> x = torch.rand((32, 10, 64, 128, 128))\n",
    "        >> convlstm = ConvLSTM(64, 16, 3, 1, True, True, False)\n",
    "        >> _, last_states = convlstm(x)\n",
    "        >> h = last_states[0][0]  # 0 for layer index, 0 for h index\n",
    "    \"\"\"\n",
    "\n",
    "    def __init__(self, input_dim, hidden_dim, kernel_size, num_layers,\n",
    "                 batch_first=False, bias=True, return_all_layers=False):\n",
    "        super(ConvLSTM, self).__init__()\n",
    "\n",
    "        self._check_kernel_size_consistency(kernel_size)\n",
    "\n",
    "        # Make sure that both `kernel_size` and `hidden_dim` are lists having len == num_layers\n",
    "        kernel_size = self._extend_for_multilayer(kernel_size, num_layers)\n",
    "        hidden_dim = self._extend_for_multilayer(hidden_dim, num_layers)\n",
    "        if not len(kernel_size) == len(hidden_dim) == num_layers:\n",
    "            raise ValueError('Inconsistent list length.')\n",
    "\n",
    "        self.input_dim = input_dim\n",
    "        self.hidden_dim = hidden_dim\n",
    "        self.kernel_size = kernel_size\n",
    "        self.num_layers = num_layers\n",
    "        self.batch_first = batch_first\n",
    "        self.bias = bias\n",
    "        self.return_all_layers = return_all_layers\n",
    "\n",
    "        cell_list = []\n",
    "        for i in range(0, self.num_layers):\n",
    "            cur_input_dim = self.input_dim if i == 0 else self.hidden_dim[i - 1]\n",
    "\n",
    "            cell_list.append(ConvLSTMCell(input_dim=cur_input_dim,\n",
    "                                          hidden_dim=self.hidden_dim[i],\n",
    "                                          kernel_size=self.kernel_size[i],\n",
    "                                          bias=self.bias))\n",
    "\n",
    "        self.cell_list = nn.ModuleList(cell_list)\n",
    "\n",
    "    def forward(self, input_tensor, hidden_state=None):\n",
    "        \"\"\"\n",
    "        Parameters\n",
    "        ----------\n",
    "        input_tensor: todo\n",
    "            5-D Tensor either of shape (t, b, c, h, w) or (b, t, c, h, w)\n",
    "        hidden_state: todo\n",
    "            None. todo implement stateful\n",
    "        Returns\n",
    "        -------\n",
    "        last_state_list, layer_output\n",
    "        \"\"\"\n",
    "        if not self.batch_first:\n",
    "            # (t, b, c, h, w) -> (b, t, c, h, w)\n",
    "            input_tensor = input_tensor.permute(1, 0, 2, 3, 4)\n",
    "\n",
    "        b, _, _, h, w = input_tensor.size()\n",
    "\n",
    "        # Implement stateful ConvLSTM\n",
    "        if hidden_state is not None:\n",
    "            raise NotImplementedError()\n",
    "        else:\n",
    "            # Since the init is done in forward. Can send image size here\n",
    "            hidden_state = self._init_hidden(batch_size=b,\n",
    "                                             image_size=(h, w))\n",
    "\n",
    "        layer_output_list = []\n",
    "        last_state_list = []\n",
    "\n",
    "        seq_len = input_tensor.size(1)\n",
    "        cur_layer_input = input_tensor\n",
    "\n",
    "        for layer_idx in range(self.num_layers):\n",
    "\n",
    "            h, c = hidden_state[layer_idx]\n",
    "            output_inner = []\n",
    "            for t in range(seq_len):\n",
    "                h, c = self.cell_list[layer_idx](input_tensor=cur_layer_input[:, t, :, :, :],\n",
    "                                                 cur_state=[h, c])\n",
    "                output_inner.append(h)\n",
    "\n",
    "            layer_output = torch.stack(output_inner, dim=1)\n",
    "            cur_layer_input = layer_output\n",
    "\n",
    "            layer_output_list.append(layer_output)\n",
    "            last_state_list.append([h, c])\n",
    "\n",
    "        if not self.return_all_layers:\n",
    "            layer_output_list = layer_output_list[-1:]\n",
    "            last_state_list = last_state_list[-1:]\n",
    "\n",
    "        return layer_output_list, last_state_list\n",
    "\n",
    "    def _init_hidden(self, batch_size, image_size):\n",
    "        init_states = []\n",
    "        for i in range(self.num_layers):\n",
    "            init_states.append(self.cell_list[i].init_hidden(batch_size, image_size))\n",
    "        return init_states\n",
    "\n",
    "    @staticmethod\n",
    "    def _check_kernel_size_consistency(kernel_size):\n",
    "        if not (isinstance(kernel_size, tuple) or\n",
    "                (isinstance(kernel_size, list) and all([isinstance(elem, tuple) for elem in kernel_size]))):\n",
    "            raise ValueError('`kernel_size` must be tuple or list of tuples')\n",
    "\n",
    "    @staticmethod\n",
    "    def _extend_for_multilayer(param, num_layers):\n",
    "        if not isinstance(param, list):\n",
    "            param = [param] * num_layers\n",
    "        return param"
   ]
  },
  {
   "cell_type": "code",
   "execution_count": 7,
   "metadata": {},
   "outputs": [
    {
     "data": {
      "text/plain": [
       "(304, 512, 512, 15)"
      ]
     },
     "execution_count": 7,
     "metadata": {},
     "output_type": "execute_result"
    }
   ],
   "source": [
    "data = np.load(\"/Users/zhangfengzhe/Desktop/UROP/wild_fire_urop_fz920/fire_data/all_304_fire_combine_all_feature_512_wind_precipitation_new.npy\")\n",
    "data.shape"
   ]
  },
  {
   "cell_type": "code",
   "execution_count": 48,
   "metadata": {},
   "outputs": [
    {
     "name": "stdout",
     "output_type": "stream",
     "text": [
      "(304, 512, 512, 14)\n",
      "(304, 512, 512)\n"
     ]
    },
    {
     "data": {
      "text/plain": [
       "14"
      ]
     },
     "execution_count": 48,
     "metadata": {},
     "output_type": "execute_result"
    }
   ],
   "source": [
    "m, n_H, n_W, n_C = data.shape\n",
    "train_x = data[:, :, :, 0:14]\n",
    "train_y = data[:, :, :, 14]\n",
    "print(train_x.shape)\n",
    "print(train_y.shape)\n",
    "len(train_x[1, 1, 1, :])"
   ]
  },
  {
   "cell_type": "code",
   "execution_count": 39,
   "metadata": {},
   "outputs": [
    {
     "name": "stdout",
     "output_type": "stream",
     "text": [
      "number of training examples = 273\n",
      "number of test examples = 31\n",
      "X_train shape: (273, 512, 512, 13)\n",
      "Y_train shape: (273, 512, 512)\n",
      "X_test shape: (31, 512, 512, 13)\n",
      "Y_test shape: (31, 512, 512)\n"
     ]
    }
   ],
   "source": [
    "train_x, val_x, train_y, val_y = train_test_split(train_x, train_y, test_size = 0.1)\n",
    "\n",
    "print (\"number of training examples = \" + str(train_x.shape[0]))\n",
    "print (\"number of test examples = \" + str(val_x.shape[0]))\n",
    "print (\"X_train shape: \" + str(train_x.shape))\n",
    "print (\"Y_train shape: \" + str(train_y.shape))\n",
    "print (\"X_test shape: \" + str(val_x.shape))\n",
    "print (\"Y_test shape: \" + str(val_y.shape))"
   ]
  },
  {
   "cell_type": "code",
   "execution_count": 49,
   "metadata": {},
   "outputs": [
    {
     "data": {
      "image/png": "[encoded data removed]",
      "text/plain": [
       "<Figure size 432x288 with 1 Axes>"
      ]
     },
     "metadata": {
      "needs_background": "light"
     },
     "output_type": "display_data"
    }
   ],
   "source": [
    "index = 100\n",
    "plt.imshow(data[index, :, :, 14]) #display sample\n",
    "plt.show()"
   ]
  },
  {
   "cell_type": "code",
   "execution_count": 90,
   "metadata": {},
   "outputs": [
    {
     "ename": "TypeError",
     "evalue": "can only concatenate list (not \"int\") to list",
     "output_type": "error",
     "traceback": [
      "\u001b[0;31m---------------------------------------------------------------------------\u001b[0m",
      "\u001b[0;31mTypeError\u001b[0m                                 Traceback (most recent call last)",
      "\u001b[1;32m/Users/zhangfengzhe/Desktop/UROP/wild_fire_urop_fz920/fire_predict/fire_pred_pytorch.ipynb Cell 8'\u001b[0m in \u001b[0;36m<cell line: 1>\u001b[0;34m()\u001b[0m\n\u001b[0;32m----> <a href='vscode-notebook-cell:/Users/zhangfengzhe/Desktop/UROP/wild_fire_urop_fz920/fire_predict/fire_pred_pytorch.ipynb#ch0000007?line=0'>1</a>\u001b[0m model \u001b[39m=\u001b[39m ConvLSTM(input_dim\u001b[39m=\u001b[39;49m[m, \u001b[39m512\u001b[39;49m, \u001b[39m512\u001b[39;49m, \u001b[39m14\u001b[39;49m],\n\u001b[1;32m      <a href='vscode-notebook-cell:/Users/zhangfengzhe/Desktop/UROP/wild_fire_urop_fz920/fire_predict/fire_pred_pytorch.ipynb#ch0000007?line=1'>2</a>\u001b[0m                  hidden_dim\u001b[39m=\u001b[39;49m[\u001b[39m64\u001b[39;49m, \u001b[39m64\u001b[39;49m, \u001b[39m128\u001b[39;49m],\n\u001b[1;32m      <a href='vscode-notebook-cell:/Users/zhangfengzhe/Desktop/UROP/wild_fire_urop_fz920/fire_predict/fire_pred_pytorch.ipynb#ch0000007?line=2'>3</a>\u001b[0m                  kernel_size\u001b[39m=\u001b[39;49m(\u001b[39m3\u001b[39;49m, \u001b[39m3\u001b[39;49m),\n\u001b[1;32m      <a href='vscode-notebook-cell:/Users/zhangfengzhe/Desktop/UROP/wild_fire_urop_fz920/fire_predict/fire_pred_pytorch.ipynb#ch0000007?line=3'>4</a>\u001b[0m                  num_layers\u001b[39m=\u001b[39;49m\u001b[39m3\u001b[39;49m,\n\u001b[1;32m      <a href='vscode-notebook-cell:/Users/zhangfengzhe/Desktop/UROP/wild_fire_urop_fz920/fire_predict/fire_pred_pytorch.ipynb#ch0000007?line=4'>5</a>\u001b[0m                  batch_first\u001b[39m=\u001b[39;49m\u001b[39mTrue\u001b[39;49;00m,\n\u001b[1;32m      <a href='vscode-notebook-cell:/Users/zhangfengzhe/Desktop/UROP/wild_fire_urop_fz920/fire_predict/fire_pred_pytorch.ipynb#ch0000007?line=5'>6</a>\u001b[0m                  bias\u001b[39m=\u001b[39;49m\u001b[39mTrue\u001b[39;49;00m,\n\u001b[1;32m      <a href='vscode-notebook-cell:/Users/zhangfengzhe/Desktop/UROP/wild_fire_urop_fz920/fire_predict/fire_pred_pytorch.ipynb#ch0000007?line=6'>7</a>\u001b[0m                  return_all_layers\u001b[39m=\u001b[39;49m\u001b[39mFalse\u001b[39;49;00m)\n",
      "\u001b[1;32m/Users/zhangfengzhe/Desktop/UROP/wild_fire_urop_fz920/fire_predict/fire_pred_pytorch.ipynb Cell 3'\u001b[0m in \u001b[0;36mConvLSTM.__init__\u001b[0;34m(self, input_dim, hidden_dim, kernel_size, num_layers, batch_first, bias, return_all_layers)\u001b[0m\n\u001b[1;32m     <a href='vscode-notebook-cell:/Users/zhangfengzhe/Desktop/UROP/wild_fire_urop_fz920/fire_predict/fire_pred_pytorch.ipynb#ch0000001?line=47'>48</a>\u001b[0m \u001b[39mfor\u001b[39;00m i \u001b[39min\u001b[39;00m \u001b[39mrange\u001b[39m(\u001b[39m0\u001b[39m, \u001b[39mself\u001b[39m\u001b[39m.\u001b[39mnum_layers):\n\u001b[1;32m     <a href='vscode-notebook-cell:/Users/zhangfengzhe/Desktop/UROP/wild_fire_urop_fz920/fire_predict/fire_pred_pytorch.ipynb#ch0000001?line=48'>49</a>\u001b[0m     cur_input_dim \u001b[39m=\u001b[39m \u001b[39mself\u001b[39m\u001b[39m.\u001b[39minput_dim \u001b[39mif\u001b[39;00m i \u001b[39m==\u001b[39m \u001b[39m0\u001b[39m \u001b[39melse\u001b[39;00m \u001b[39mself\u001b[39m\u001b[39m.\u001b[39mhidden_dim[i \u001b[39m-\u001b[39m \u001b[39m1\u001b[39m]\n\u001b[0;32m---> <a href='vscode-notebook-cell:/Users/zhangfengzhe/Desktop/UROP/wild_fire_urop_fz920/fire_predict/fire_pred_pytorch.ipynb#ch0000001?line=50'>51</a>\u001b[0m     cell_list\u001b[39m.\u001b[39mappend(ConvLSTMCell(input_dim\u001b[39m=\u001b[39;49mcur_input_dim,\n\u001b[1;32m     <a href='vscode-notebook-cell:/Users/zhangfengzhe/Desktop/UROP/wild_fire_urop_fz920/fire_predict/fire_pred_pytorch.ipynb#ch0000001?line=51'>52</a>\u001b[0m                                   hidden_dim\u001b[39m=\u001b[39;49m\u001b[39mself\u001b[39;49m\u001b[39m.\u001b[39;49mhidden_dim[i],\n\u001b[1;32m     <a href='vscode-notebook-cell:/Users/zhangfengzhe/Desktop/UROP/wild_fire_urop_fz920/fire_predict/fire_pred_pytorch.ipynb#ch0000001?line=52'>53</a>\u001b[0m                                   kernel_size\u001b[39m=\u001b[39;49m\u001b[39mself\u001b[39;49m\u001b[39m.\u001b[39;49mkernel_size[i],\n\u001b[1;32m     <a href='vscode-notebook-cell:/Users/zhangfengzhe/Desktop/UROP/wild_fire_urop_fz920/fire_predict/fire_pred_pytorch.ipynb#ch0000001?line=53'>54</a>\u001b[0m                                   bias\u001b[39m=\u001b[39;49m\u001b[39mself\u001b[39;49m\u001b[39m.\u001b[39;49mbias))\n\u001b[1;32m     <a href='vscode-notebook-cell:/Users/zhangfengzhe/Desktop/UROP/wild_fire_urop_fz920/fire_predict/fire_pred_pytorch.ipynb#ch0000001?line=55'>56</a>\u001b[0m \u001b[39mself\u001b[39m\u001b[39m.\u001b[39mcell_list \u001b[39m=\u001b[39m nn\u001b[39m.\u001b[39mModuleList(cell_list)\n",
      "\u001b[1;32m/Users/zhangfengzhe/Desktop/UROP/wild_fire_urop_fz920/fire_predict/fire_pred_pytorch.ipynb Cell 1'\u001b[0m in \u001b[0;36mConvLSTMCell.__init__\u001b[0;34m(self, input_dim, hidden_dim, kernel_size, bias)\u001b[0m\n\u001b[1;32m     <a href='vscode-notebook-cell:/Users/zhangfengzhe/Desktop/UROP/wild_fire_urop_fz920/fire_predict/fire_pred_pytorch.ipynb#ch0000000?line=28'>29</a>\u001b[0m \u001b[39mself\u001b[39m\u001b[39m.\u001b[39mpadding \u001b[39m=\u001b[39m kernel_size[\u001b[39m0\u001b[39m] \u001b[39m/\u001b[39m\u001b[39m/\u001b[39m \u001b[39m2\u001b[39m, kernel_size[\u001b[39m1\u001b[39m] \u001b[39m/\u001b[39m\u001b[39m/\u001b[39m \u001b[39m2\u001b[39m\n\u001b[1;32m     <a href='vscode-notebook-cell:/Users/zhangfengzhe/Desktop/UROP/wild_fire_urop_fz920/fire_predict/fire_pred_pytorch.ipynb#ch0000000?line=29'>30</a>\u001b[0m \u001b[39mself\u001b[39m\u001b[39m.\u001b[39mbias \u001b[39m=\u001b[39m bias\n\u001b[0;32m---> <a href='vscode-notebook-cell:/Users/zhangfengzhe/Desktop/UROP/wild_fire_urop_fz920/fire_predict/fire_pred_pytorch.ipynb#ch0000000?line=31'>32</a>\u001b[0m \u001b[39mself\u001b[39m\u001b[39m.\u001b[39mconv \u001b[39m=\u001b[39m nn\u001b[39m.\u001b[39mConv2d(in_channels\u001b[39m=\u001b[39m\u001b[39mself\u001b[39;49m\u001b[39m.\u001b[39;49minput_dim \u001b[39m+\u001b[39;49m \u001b[39mself\u001b[39;49m\u001b[39m.\u001b[39;49mhidden_dim,\n\u001b[1;32m     <a href='vscode-notebook-cell:/Users/zhangfengzhe/Desktop/UROP/wild_fire_urop_fz920/fire_predict/fire_pred_pytorch.ipynb#ch0000000?line=32'>33</a>\u001b[0m                       out_channels\u001b[39m=\u001b[39m\u001b[39m4\u001b[39m \u001b[39m*\u001b[39m \u001b[39mself\u001b[39m\u001b[39m.\u001b[39mhidden_dim,\n\u001b[1;32m     <a href='vscode-notebook-cell:/Users/zhangfengzhe/Desktop/UROP/wild_fire_urop_fz920/fire_predict/fire_pred_pytorch.ipynb#ch0000000?line=33'>34</a>\u001b[0m                       kernel_size\u001b[39m=\u001b[39m\u001b[39mself\u001b[39m\u001b[39m.\u001b[39mkernel_size,\n\u001b[1;32m     <a href='vscode-notebook-cell:/Users/zhangfengzhe/Desktop/UROP/wild_fire_urop_fz920/fire_predict/fire_pred_pytorch.ipynb#ch0000000?line=34'>35</a>\u001b[0m                       padding\u001b[39m=\u001b[39m\u001b[39mself\u001b[39m\u001b[39m.\u001b[39mpadding,\n\u001b[1;32m     <a href='vscode-notebook-cell:/Users/zhangfengzhe/Desktop/UROP/wild_fire_urop_fz920/fire_predict/fire_pred_pytorch.ipynb#ch0000000?line=35'>36</a>\u001b[0m                       bias\u001b[39m=\u001b[39m\u001b[39mself\u001b[39m\u001b[39m.\u001b[39mbias)\n",
      "\u001b[0;31mTypeError\u001b[0m: can only concatenate list (not \"int\") to list"
     ]
    }
   ],
   "source": [
    "model = ConvLSTM(input_dim=[m, 512, 512, 14],\n",
    "                 hidden_dim=[64, 64, 128],\n",
    "                 kernel_size=(3, 3),\n",
    "                 num_layers=3,\n",
    "                 batch_first=True,\n",
    "                 bias=True,\n",
    "                 return_all_layers=False)"
   ]
  },
  {
   "cell_type": "code",
   "execution_count": 79,
   "metadata": {},
   "outputs": [],
   "source": [
    "loss_fn = torch.nn.CrossEntropyLoss()\n",
    "optimizer = torch.optim.SGD(model.parameters(), lr=0.01, momentum=0.9)"
   ]
  },
  {
   "cell_type": "code",
   "execution_count": 81,
   "metadata": {},
   "outputs": [],
   "source": [
    "train_loader = [train_x, train_y]\n",
    "test_loader = [val_x, val_y]"
   ]
  },
  {
   "cell_type": "code",
   "execution_count": 83,
   "metadata": {},
   "outputs": [
    {
     "name": "stdout",
     "output_type": "stream",
     "text": [
      "(512, 512, 13)\n",
      "(512, 512, 13)\n",
      "(512, 512)\n",
      "(512, 512)\n"
     ]
    }
   ],
   "source": [
    "for data in test_loader:\n",
    "    image, label = data[0], data[1]\n",
    "    print(image.shape)\n",
    "    print(label.shape)"
   ]
  },
  {
   "cell_type": "code",
   "execution_count": 84,
   "metadata": {},
   "outputs": [],
   "source": [
    "def testAccuracy():\n",
    "    \n",
    "    model.eval()\n",
    "    accuracy = 0.0\n",
    "    total = 0.0\n",
    "    \n",
    "    with torch.no_grad():\n",
    "        for i in range(m):\n",
    "            images, labels = val_x[i, :, :, :], val_y[i, :, :]\n",
    "            # run the model on the test set to predict labels\n",
    "            outputs = model(images)\n",
    "            # the label with the highest energy will be our prediction\n",
    "            _, predicted = torch.max(outputs.data, 1)\n",
    "            total += labels.size(0)\n",
    "            accuracy += (predicted == labels).sum().item()\n",
    "    \n",
    "    # compute the accuracy over all test images\n",
    "    accuracy = (100 * accuracy / total)\n",
    "    return accuracy"
   ]
  },
  {
   "cell_type": "code",
   "execution_count": 88,
   "metadata": {},
   "outputs": [],
   "source": [
    "from torch.autograd import Variable\n",
    "\n",
    "\n",
    "# Training function. We simply have to loop over our data iterator and feed the inputs to the network and optimize.\n",
    "def train(num_epochs):\n",
    "\n",
    "    # Define your execution device\n",
    "    device = torch.device(\"cuda:0\" if torch.cuda.is_available() else \"cpu\")\n",
    "    print(\"The model will be running on\", device, \"device\")\n",
    "    # Convert model parameters and buffers to CPU or Cuda\n",
    "    model.to(device)\n",
    "\n",
    "    for epoch in range(num_epochs):  # loop over the dataset multiple times\n",
    "        running_loss = 0.0\n",
    "\n",
    "        for i in range(m):\n",
    "            images = torch.tensor(train_x[i, :, :, :])\n",
    "            labels = torch.tensor(train_y[i, :, :])\n",
    "            \n",
    "            # get the inputs\n",
    "            images = Variable(images.to(device))\n",
    "            labels = Variable(labels.to(device))\n",
    "\n",
    "            # zero the parameter gradients\n",
    "            optimizer.zero_grad()\n",
    "            # predict classes using images from the training set\n",
    "            outputs = model(images)\n",
    "            # compute the loss based on model output and real labels\n",
    "            loss = loss_fn(outputs, labels)\n",
    "            # backpropagate the loss\n",
    "            loss.backward()\n",
    "            # adjust parameters based on the calculated gradients\n",
    "            optimizer.step()\n",
    "\n",
    "            # Let's print statistics for every 1,000 images\n",
    "            running_loss += loss.item()     # extract the loss value\n",
    "            if i % 1000 == 999:    \n",
    "                # print every 1000 (twice per epoch) \n",
    "                print('[%d, %5d] loss: %.3f' %\n",
    "                      (epoch + 1, i + 1, running_loss / 1000))\n",
    "                # zero the loss\n",
    "                running_loss = 0.0\n",
    "\n",
    "        # Compute and print the average accuracy fo this epoch when tested over all 10000 test images\n",
    "        accuracy = testAccuracy()\n",
    "        print('For epoch', epoch+1,'the test accuracy over the whole test set is %d %%' % (accuracy))\n",
    "        "
   ]
  },
  {
   "cell_type": "code",
   "execution_count": 89,
   "metadata": {},
   "outputs": [
    {
     "name": "stdout",
     "output_type": "stream",
     "text": [
      "The model will be running on cpu device\n"
     ]
    },
    {
     "ename": "ValueError",
     "evalue": "not enough values to unpack (expected 5, got 3)",
     "output_type": "error",
     "traceback": [
      "\u001b[0;31m---------------------------------------------------------------------------\u001b[0m",
      "\u001b[0;31mValueError\u001b[0m                                Traceback (most recent call last)",
      "\u001b[1;32m/Users/zhangfengzhe/Desktop/UROP/wild_fire_urop_fz920/fire_predict/fire_pred_pytorch.ipynb Cell 14'\u001b[0m in \u001b[0;36m<cell line: 1>\u001b[0;34m()\u001b[0m\n\u001b[0;32m----> <a href='vscode-notebook-cell:/Users/zhangfengzhe/Desktop/UROP/wild_fire_urop_fz920/fire_predict/fire_pred_pytorch.ipynb#ch0000011?line=0'>1</a>\u001b[0m train(\u001b[39m10\u001b[39;49m)\n",
      "\u001b[1;32m/Users/zhangfengzhe/Desktop/UROP/wild_fire_urop_fz920/fire_predict/fire_pred_pytorch.ipynb Cell 13'\u001b[0m in \u001b[0;36mtrain\u001b[0;34m(num_epochs)\u001b[0m\n\u001b[1;32m     <a href='vscode-notebook-cell:/Users/zhangfengzhe/Desktop/UROP/wild_fire_urop_fz920/fire_predict/fire_pred_pytorch.ipynb#ch0000010?line=24'>25</a>\u001b[0m optimizer\u001b[39m.\u001b[39mzero_grad()\n\u001b[1;32m     <a href='vscode-notebook-cell:/Users/zhangfengzhe/Desktop/UROP/wild_fire_urop_fz920/fire_predict/fire_pred_pytorch.ipynb#ch0000010?line=25'>26</a>\u001b[0m \u001b[39m# predict classes using images from the training set\u001b[39;00m\n\u001b[0;32m---> <a href='vscode-notebook-cell:/Users/zhangfengzhe/Desktop/UROP/wild_fire_urop_fz920/fire_predict/fire_pred_pytorch.ipynb#ch0000010?line=26'>27</a>\u001b[0m outputs \u001b[39m=\u001b[39m model(images)\n\u001b[1;32m     <a href='vscode-notebook-cell:/Users/zhangfengzhe/Desktop/UROP/wild_fire_urop_fz920/fire_predict/fire_pred_pytorch.ipynb#ch0000010?line=27'>28</a>\u001b[0m \u001b[39m# compute the loss based on model output and real labels\u001b[39;00m\n\u001b[1;32m     <a href='vscode-notebook-cell:/Users/zhangfengzhe/Desktop/UROP/wild_fire_urop_fz920/fire_predict/fire_pred_pytorch.ipynb#ch0000010?line=28'>29</a>\u001b[0m loss \u001b[39m=\u001b[39m loss_fn(outputs, labels)\n",
      "File \u001b[0;32m~/Desktop/UROP/PoP_venv/lib/python3.9/site-packages/torch/nn/modules/module.py:1110\u001b[0m, in \u001b[0;36mModule._call_impl\u001b[0;34m(self, *input, **kwargs)\u001b[0m\n\u001b[1;32m   <a href='file:///Users/zhangfengzhe/Desktop/UROP/PoP_venv/lib/python3.9/site-packages/torch/nn/modules/module.py?line=1105'>1106</a>\u001b[0m \u001b[39m# If we don't have any hooks, we want to skip the rest of the logic in\u001b[39;00m\n\u001b[1;32m   <a href='file:///Users/zhangfengzhe/Desktop/UROP/PoP_venv/lib/python3.9/site-packages/torch/nn/modules/module.py?line=1106'>1107</a>\u001b[0m \u001b[39m# this function, and just call forward.\u001b[39;00m\n\u001b[1;32m   <a href='file:///Users/zhangfengzhe/Desktop/UROP/PoP_venv/lib/python3.9/site-packages/torch/nn/modules/module.py?line=1107'>1108</a>\u001b[0m \u001b[39mif\u001b[39;00m \u001b[39mnot\u001b[39;00m (\u001b[39mself\u001b[39m\u001b[39m.\u001b[39m_backward_hooks \u001b[39mor\u001b[39;00m \u001b[39mself\u001b[39m\u001b[39m.\u001b[39m_forward_hooks \u001b[39mor\u001b[39;00m \u001b[39mself\u001b[39m\u001b[39m.\u001b[39m_forward_pre_hooks \u001b[39mor\u001b[39;00m _global_backward_hooks\n\u001b[1;32m   <a href='file:///Users/zhangfengzhe/Desktop/UROP/PoP_venv/lib/python3.9/site-packages/torch/nn/modules/module.py?line=1108'>1109</a>\u001b[0m         \u001b[39mor\u001b[39;00m _global_forward_hooks \u001b[39mor\u001b[39;00m _global_forward_pre_hooks):\n\u001b[0;32m-> <a href='file:///Users/zhangfengzhe/Desktop/UROP/PoP_venv/lib/python3.9/site-packages/torch/nn/modules/module.py?line=1109'>1110</a>\u001b[0m     \u001b[39mreturn\u001b[39;00m forward_call(\u001b[39m*\u001b[39;49m\u001b[39minput\u001b[39;49m, \u001b[39m*\u001b[39;49m\u001b[39m*\u001b[39;49mkwargs)\n\u001b[1;32m   <a href='file:///Users/zhangfengzhe/Desktop/UROP/PoP_venv/lib/python3.9/site-packages/torch/nn/modules/module.py?line=1110'>1111</a>\u001b[0m \u001b[39m# Do not call functions when jit is used\u001b[39;00m\n\u001b[1;32m   <a href='file:///Users/zhangfengzhe/Desktop/UROP/PoP_venv/lib/python3.9/site-packages/torch/nn/modules/module.py?line=1111'>1112</a>\u001b[0m full_backward_hooks, non_full_backward_hooks \u001b[39m=\u001b[39m [], []\n",
      "\u001b[1;32m/Users/zhangfengzhe/Desktop/UROP/wild_fire_urop_fz920/fire_predict/fire_pred_pytorch.ipynb Cell 3'\u001b[0m in \u001b[0;36mConvLSTM.forward\u001b[0;34m(self, input_tensor, hidden_state)\u001b[0m\n\u001b[1;32m     <a href='vscode-notebook-cell:/Users/zhangfengzhe/Desktop/UROP/wild_fire_urop_fz920/fire_predict/fire_pred_pytorch.ipynb#ch0000001?line=69'>70</a>\u001b[0m \u001b[39mif\u001b[39;00m \u001b[39mnot\u001b[39;00m \u001b[39mself\u001b[39m\u001b[39m.\u001b[39mbatch_first:\n\u001b[1;32m     <a href='vscode-notebook-cell:/Users/zhangfengzhe/Desktop/UROP/wild_fire_urop_fz920/fire_predict/fire_pred_pytorch.ipynb#ch0000001?line=70'>71</a>\u001b[0m     \u001b[39m# (t, b, c, h, w) -> (b, t, c, h, w)\u001b[39;00m\n\u001b[1;32m     <a href='vscode-notebook-cell:/Users/zhangfengzhe/Desktop/UROP/wild_fire_urop_fz920/fire_predict/fire_pred_pytorch.ipynb#ch0000001?line=71'>72</a>\u001b[0m     input_tensor \u001b[39m=\u001b[39m input_tensor\u001b[39m.\u001b[39mpermute(\u001b[39m1\u001b[39m, \u001b[39m0\u001b[39m, \u001b[39m2\u001b[39m, \u001b[39m3\u001b[39m, \u001b[39m4\u001b[39m)\n\u001b[0;32m---> <a href='vscode-notebook-cell:/Users/zhangfengzhe/Desktop/UROP/wild_fire_urop_fz920/fire_predict/fire_pred_pytorch.ipynb#ch0000001?line=73'>74</a>\u001b[0m b, _, _, h, w \u001b[39m=\u001b[39m input_tensor\u001b[39m.\u001b[39msize()\n\u001b[1;32m     <a href='vscode-notebook-cell:/Users/zhangfengzhe/Desktop/UROP/wild_fire_urop_fz920/fire_predict/fire_pred_pytorch.ipynb#ch0000001?line=75'>76</a>\u001b[0m \u001b[39m# Implement stateful ConvLSTM\u001b[39;00m\n\u001b[1;32m     <a href='vscode-notebook-cell:/Users/zhangfengzhe/Desktop/UROP/wild_fire_urop_fz920/fire_predict/fire_pred_pytorch.ipynb#ch0000001?line=76'>77</a>\u001b[0m \u001b[39mif\u001b[39;00m hidden_state \u001b[39mis\u001b[39;00m \u001b[39mnot\u001b[39;00m \u001b[39mNone\u001b[39;00m:\n",
      "\u001b[0;31mValueError\u001b[0m: not enough values to unpack (expected 5, got 3)"
     ]
    }
   ],
   "source": [
    "train(10)"
   ]
  },
  {
   "cell_type": "code",
   "execution_count": null,
   "metadata": {},
   "outputs": [],
   "source": []
  }
 ],
 "metadata": {
  "interpreter": {
   "hash": "3dc2d4287c3e5df1efb1cfb6ad5e9bbe64ecfebd8ae7d2ff276c7de2f0e96c37"
  },
  "kernelspec": {
   "display_name": "Python 3.9.9 ('PoP_venv': venv)",
   "language": "python",
   "name": "python3"
  },
  "language_info": {
   "codemirror_mode": {
    "name": "ipython",
    "version": 3
   },
   "file_extension": ".py",
   "mimetype": "text/x-python",
   "name": "python",
   "nbconvert_exporter": "python",
   "pygments_lexer": "ipython3",
   "version": "3.9.9"
  },
  "orig_nbformat": 4
 },
 "nbformat": 4,
 "nbformat_minor": 2
}
